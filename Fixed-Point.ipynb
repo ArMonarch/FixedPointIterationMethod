{
 "cells": [
  {
   "cell_type": "code",
   "execution_count": null,
   "id": "5169da3f-35cb-46b1-9f5e-a78058d35b41",
   "metadata": {},
   "outputs": [],
   "source": [
    "import sympy as sympy\n",
    "import pandas as pd\n",
    "import numpy as np\n",
    "from matplotlib import pyplot as plot"
   ]
  },
  {
   "cell_type": "code",
   "execution_count": null,
   "id": "b0124c34-656a-4474-a580-a6759a098b1a",
   "metadata": {},
   "outputs": [],
   "source": [
    "#Define Symbol of the variable\n",
    "X = sympy.Symbol('x')"
   ]
  },
  {
   "cell_type": "code",
   "execution_count": null,
   "id": "33f1d06b",
   "metadata": {},
   "outputs": [],
   "source": [
    "#Question No 1\n",
    "fX = 'x^3 + x^2 - 1'\n",
    "gX = '1/((x+1)^(1/2))'\n",
    "\n",
    "# Define Initial value of X in given range [a , b]\n",
    "X0 = float(0.75)"
   ]
  },
  {
   "cell_type": "markdown",
   "id": "04746eba",
   "metadata": {},
   "source": []
  },
  {
   "cell_type": "code",
   "execution_count": null,
   "id": "70d6ec6a",
   "metadata": {},
   "outputs": [],
   "source": [
    "def f(x):\n",
    "    # simplifies the equation\n",
    "    equation = sympy.simplify(fX)\n",
    "    return float(equation.subs(X, x))"
   ]
  },
  {
   "cell_type": "code",
   "execution_count": null,
   "id": "be4756da",
   "metadata": {},
   "outputs": [],
   "source": [
    "def g(x):\n",
    "    # simplifies the equation\n",
    "    equation = sympy.simplify(gX)\n",
    "    return float(equation.subs(X, x))"
   ]
  },
  {
   "cell_type": "code",
   "execution_count": null,
   "id": "424bc7ae",
   "metadata": {},
   "outputs": [],
   "source": [
    "def FixedPointTableData(X0):\n",
    "    data = []\n",
    "    iteration = 0\n",
    "    ValueX = X0\n",
    "    while iteration < 5000:        \n",
    "        ValueGX = g(ValueX)\n",
    "        ValueFX = f(ValueX)\n",
    "        data.append([ValueX, ValueGX, ValueFX])\n",
    "        iteration = iteration + 1\n",
    "        ValueX = ValueGX\n",
    "        if abs(ValueFX) < 0.0001:\n",
    "            break\n",
    "    return data"
   ]
  },
  {
   "cell_type": "code",
   "execution_count": null,
   "id": "1b01c950",
   "metadata": {},
   "outputs": [],
   "source": [
    "TableData = FixedPointTableData(X0)"
   ]
  },
  {
   "cell_type": "code",
   "execution_count": null,
   "id": "6db274f1",
   "metadata": {},
   "outputs": [],
   "source": [
    "def FixedPointTable(data):\n",
    "    dataFrame = pd.DataFrame(data, columns = ['value of X', 'Value of G(x)', 'Value of F(x)'])\n",
    "    return dataFrame"
   ]
  },
  {
   "cell_type": "code",
   "execution_count": null,
   "id": "56095f97",
   "metadata": {},
   "outputs": [],
   "source": [
    "FixedPointTable(TableData)"
   ]
  },
  {
   "cell_type": "code",
   "execution_count": null,
   "id": "3c1c0ff7",
   "metadata": {},
   "outputs": [],
   "source": [
    "# Y = x Function\n",
    "\n",
    "def y(x):\n",
    "    return x"
   ]
  },
  {
   "cell_type": "code",
   "execution_count": null,
   "id": "20d7036e",
   "metadata": {},
   "outputs": [],
   "source": [
    "# array of x-values for Y = x and G(x)\n",
    "X_array = np.linspace(0,1,100)"
   ]
  },
  {
   "cell_type": "code",
   "execution_count": null,
   "id": "93540e9e",
   "metadata": {},
   "outputs": [],
   "source": [
    "def FixedPointPlot():\n",
    "\n",
    "    plot.plot(X_array, y(X_array))\n",
    "    gX = []\n",
    "    for x in X_array:\n",
    "        gX.append(g(x))\n",
    "         \n",
    "    plot.plot(X_array, gX)\n",
    "    \n",
    "    graph = plot.show()\n",
    "    \n",
    "    return graph"
   ]
  },
  {
   "cell_type": "code",
   "execution_count": null,
   "id": "fad1f5a5",
   "metadata": {},
   "outputs": [],
   "source": [
    "FixedPointPlot()"
   ]
  }
 ],
 "metadata": {
  "kernelspec": {
   "display_name": "Python 3 (ipykernel)",
   "language": "python",
   "name": "python3"
  },
  "language_info": {
   "codemirror_mode": {
    "name": "ipython",
    "version": 3
   },
   "file_extension": ".py",
   "mimetype": "text/x-python",
   "name": "python",
   "nbconvert_exporter": "python",
   "pygments_lexer": "ipython3",
   "version": "3.11.5"
  }
 },
 "nbformat": 4,
 "nbformat_minor": 5
}
