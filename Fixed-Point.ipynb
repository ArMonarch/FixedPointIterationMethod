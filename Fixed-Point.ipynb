{
 "cells": [
  {
   "cell_type": "code",
   "execution_count": 14,
   "id": "5169da3f-35cb-46b1-9f5e-a78058d35b41",
   "metadata": {},
   "outputs": [],
   "source": [
    "import sympy as sympy\n",
    "import pandas as pd\n",
    "import numpy as np\n",
    "from matplotlib import pyplot as plot"
   ]
  },
  {
   "cell_type": "code",
   "execution_count": 15,
   "id": "b0124c34-656a-4474-a580-a6759a098b1a",
   "metadata": {},
   "outputs": [],
   "source": [
    "#Define Symbol of the variable\n",
    "X = sympy.Symbol('x')"
   ]
  },
  {
   "cell_type": "code",
   "execution_count": 16,
   "id": "33f1d06b",
   "metadata": {},
   "outputs": [],
   "source": [
    "#Question No 1\n",
    "fX = 'x^3 + x^2 - 1'\n",
    "gX = '1/((x+1)^(1/2))'\n",
    "\n",
    "# Define Initial value of X in given range [a , b]\n",
    "X0 = float(0.75)"
   ]
  },
  {
   "cell_type": "code",
   "execution_count": 17,
   "id": "70d6ec6a",
   "metadata": {},
   "outputs": [],
   "source": [
    "def f(x):\n",
    "    # simplifies the equation\n",
    "    equation = sympy.simplify(fX)\n",
    "    return float(equation.subs(X, x))"
   ]
  },
  {
   "cell_type": "code",
   "execution_count": 18,
   "id": "be4756da",
   "metadata": {},
   "outputs": [],
   "source": [
    "def g(x):\n",
    "    # simplifies the equation\n",
    "    equation = sympy.simplify(gX)\n",
    "    return float(equation.subs(X, x))"
   ]
  },
  {
   "cell_type": "code",
   "execution_count": 19,
   "id": "424bc7ae",
   "metadata": {},
   "outputs": [],
   "source": [
    "def FixedPointTableData(X0):\n",
    "    data = []\n",
    "    iteration = 0\n",
    "    ValueX = X0\n",
    "    while iteration < 5000:        \n",
    "        ValueGX = g(ValueX)\n",
    "        ValueFX = f(ValueX)\n",
    "        data.append([ValueX, ValueGX, ValueFX])\n",
    "        iteration = iteration + 1\n",
    "        ValueX = ValueGX\n",
    "        if abs(ValueFX) < 0.0001:\n",
    "            break\n",
    "    return data"
   ]
  },
  {
   "cell_type": "code",
   "execution_count": 20,
   "id": "1b01c950",
   "metadata": {},
   "outputs": [],
   "source": [
    "TableData = FixedPointTableData(X0)"
   ]
  },
  {
   "cell_type": "code",
   "execution_count": 21,
   "id": "6db274f1",
   "metadata": {},
   "outputs": [],
   "source": [
    "def FixedPointTable(data):\n",
    "    dataFrame = pd.DataFrame(data, columns = ['value of X', 'Value of G(x)', 'Value of F(x)'])\n",
    "    return dataFrame"
   ]
  },
  {
   "cell_type": "code",
   "execution_count": 22,
   "id": "56095f97",
   "metadata": {},
   "outputs": [
    {
     "data": {
      "text/html": [
       "<div>\n",
       "<style scoped>\n",
       "    .dataframe tbody tr th:only-of-type {\n",
       "        vertical-align: middle;\n",
       "    }\n",
       "\n",
       "    .dataframe tbody tr th {\n",
       "        vertical-align: top;\n",
       "    }\n",
       "\n",
       "    .dataframe thead th {\n",
       "        text-align: right;\n",
       "    }\n",
       "</style>\n",
       "<table border=\"1\" class=\"dataframe\">\n",
       "  <thead>\n",
       "    <tr style=\"text-align: right;\">\n",
       "      <th></th>\n",
       "      <th>value of X</th>\n",
       "      <th>Value of G(x)</th>\n",
       "      <th>Value of F(x)</th>\n",
       "    </tr>\n",
       "  </thead>\n",
       "  <tbody>\n",
       "    <tr>\n",
       "      <th>0</th>\n",
       "      <td>0.750000</td>\n",
       "      <td>0.755929</td>\n",
       "      <td>-0.015625</td>\n",
       "    </tr>\n",
       "    <tr>\n",
       "      <th>1</th>\n",
       "      <td>0.755929</td>\n",
       "      <td>0.754652</td>\n",
       "      <td>0.003388</td>\n",
       "    </tr>\n",
       "    <tr>\n",
       "      <th>2</th>\n",
       "      <td>0.754652</td>\n",
       "      <td>0.754926</td>\n",
       "      <td>-0.000727</td>\n",
       "    </tr>\n",
       "    <tr>\n",
       "      <th>3</th>\n",
       "      <td>0.754926</td>\n",
       "      <td>0.754867</td>\n",
       "      <td>0.000157</td>\n",
       "    </tr>\n",
       "    <tr>\n",
       "      <th>4</th>\n",
       "      <td>0.754867</td>\n",
       "      <td>0.754880</td>\n",
       "      <td>-0.000034</td>\n",
       "    </tr>\n",
       "  </tbody>\n",
       "</table>\n",
       "</div>"
      ],
      "text/plain": [
       "   value of X  Value of G(x)  Value of F(x)\n",
       "0    0.750000       0.755929      -0.015625\n",
       "1    0.755929       0.754652       0.003388\n",
       "2    0.754652       0.754926      -0.000727\n",
       "3    0.754926       0.754867       0.000157\n",
       "4    0.754867       0.754880      -0.000034"
      ]
     },
     "execution_count": 22,
     "metadata": {},
     "output_type": "execute_result"
    }
   ],
   "source": [
    "FixedPointTable(TableData)"
   ]
  },
  {
   "cell_type": "code",
   "execution_count": 23,
   "id": "3c1c0ff7",
   "metadata": {},
   "outputs": [],
   "source": [
    "# Y = x Function\n",
    "\n",
    "def y(x):\n",
    "    return x"
   ]
  },
  {
   "cell_type": "code",
   "execution_count": 24,
   "id": "20d7036e",
   "metadata": {},
   "outputs": [],
   "source": [
    "# array of x-values for Y = x and G(x)\n",
    "X_array = np.linspace(0,1,100)"
   ]
  },
  {
   "cell_type": "code",
   "execution_count": 25,
   "id": "93540e9e",
   "metadata": {},
   "outputs": [],
   "source": [
    "def FixedPointPlot():\n",
    "\n",
    "    plot.plot(X_array, y(X_array))\n",
    "    gX = []\n",
    "    for x in X_array:\n",
    "        gX.append(g(x))\n",
    "         \n",
    "    plot.plot(X_array, gX)\n",
    "    \n",
    "    graph = plot.show()\n",
    "    \n",
    "    return graph"
   ]
  },
  {
   "cell_type": "code",
   "execution_count": 26,
   "id": "fad1f5a5",
   "metadata": {},
   "outputs": [
    {
     "data": {
      "image/png": "[encoded data removed]",
      "text/plain": [
       "<Figure size 640x480 with 1 Axes>"
      ]
     },
     "metadata": {},
     "output_type": "display_data"
    }
   ],
   "source": [
    "FixedPointPlot()"
   ]
  }
 ],
 "metadata": {
  "kernelspec": {
   "display_name": "Python 3 (ipykernel)",
   "language": "python",
   "name": "python3"
  },
  "language_info": {
   "codemirror_mode": {
    "name": "ipython",
    "version": 3
   },
   "file_extension": ".py",
   "mimetype": "text/x-python",
   "name": "python",
   "nbconvert_exporter": "python",
   "pygments_lexer": "ipython3",
   "version": "3.11.5"
  }
 },
 "nbformat": 4,
 "nbformat_minor": 5
}
